{
 "cells": [
  {
   "cell_type": "code",
   "execution_count": 39,
   "id": "d6c1551b-a490-4c6a-bdbe-66a5f64bd401",
   "metadata": {},
   "outputs": [
    {
     "name": "stdout",
     "output_type": "stream",
     "text": [
      "The autoreload extension is already loaded. To reload it, use:\n",
      "  %reload_ext autoreload\n",
      "env: DATABASE_PATH=data/fatigue_database.csv\n"
     ]
    }
   ],
   "source": [
    "%load_ext autoreload\n",
    "%autoreload 2\n",
    "# Replace the path below with the location of the fatigue database file if needed\n",
    "%env DATABASE_PATH=data/fatigue_database.csv"
   ]
  },
  {
   "cell_type": "code",
   "execution_count": 37,
   "id": "d6cb0c67-0211-401c-b52d-ddd9577b8b91",
   "metadata": {},
   "outputs": [],
   "source": [
    "from pu_criterion.experiment import ExperimentPU\n",
    "from pu_criterion.non_pu_classification import LogRegression, LDA\n",
    "from pu_criterion.PU import PUClassifier\n",
    "from pu_criterion.classification import LinearLogisticRegression, LinearLogisticRegression2, RandomForestClass, LinearDiscriminantClassifier\n",
    "from pu_criterion.propensity import LogProbitPropensity, LogisticPropensity, GumbelPropensity\n",
    "import warnings\n",
    "warnings.filterwarnings('ignore')\n",
    "from tqdm import tqdm\n",
    "import numpy as np\n",
    "from pu_criterion.visualisation import plot_results, criterion_2d, scatter\n",
    "import matplotlib.pyplot as plt"
   ]
  },
  {
   "cell_type": "markdown",
   "id": "72f67b34-b458-4919-a88f-29ac36276611",
   "metadata": {},
   "source": [
    "# PU learning application to fatigue database\n",
    "\n",
    "## Features\n",
    "\n",
    "Choice of features for:\n",
    "+ the classification model (fatigue criterion)\n",
    "+ the propensity model (affecting the observations)"
   ]
  },
  {
   "cell_type": "code",
   "execution_count": 38,
   "id": "27f25cbf-8643-4ca0-9bac-1858cb5b6126",
   "metadata": {},
   "outputs": [],
   "source": [
    "# Features for classification model\n",
    "cfeatures_DV = ['p_n', 'tau_n']  # Dang Van variables\n",
    "cfeatures = ['tresca_a_m_0_mean_n', 'sllbt_a_a_25_max_n', 'sttc_a_m_25_max_n', 'Tau0_25_mean', 'thickness_0_mean']  # Additional variables\n",
    "\n",
    "# Features for propensity model\n",
    "efeatures = ['fm', 'f0']   # Equivalent test severity + initial severity"
   ]
  },
  {
   "cell_type": "markdown",
   "id": "b8f154d6-8d29-4c55-ad37-9badfa2b1863",
   "metadata": {},
   "source": [
    "## Experiment parameters\n",
    "\n",
    "### PU learning model\n",
    "The PU learning model is defined by:\n",
    "+ a classification model (default `LinearLogisticRegression`, note that `LinearDiscriminantClassifier` is also possible)\n",
    "+ a propensity model (default `LogisticPropensity`, other possible choices are `LogProbitPropensity`and `GumbelPropensity`)\n",
    "\n",
    "### Sampling parameters\n",
    "+ subsampling_factor: to subsample the majority class (default: `None`, ie no subsampling)\n",
    "+ upsampling_factor: to oversample the minority class (default: `1`, ie no upsampling)\n",
    "\n",
    "### Random state\n",
    "Represents the seed for random operations involved in the expriment: the train/test partition. Note that expriments are repeated multiple times with different seeds to assess the consistency of the results.\n",
    "\n",
    "### Execution time\n",
    "For a PU learning model with `LinearLogisticRegression` as classifier and `LogisticPropensity` for propensity, each experiment takes normally less than $1$ minute. (Execution time is higher for the other propensity models.)"
   ]
  },
  {
   "cell_type": "markdown",
   "id": "ce535f81-bf79-45e6-897f-5dafb577b9a5",
   "metadata": {},
   "source": [
    "## Commands to launch multiple experiments and save the outputs\n",
    "\n",
    "The estimated model, the set of features used and the performances obtained are stored in the specified folder in the command `exp.save(...)`. Of course, feel free to adapt it to your needs."
   ]
  },
  {
   "cell_type": "code",
   "execution_count": 34,
   "id": "a824b8d4-1383-4102-a276-78b2b7e1c12d",
   "metadata": {},
   "outputs": [
    {
     "name": "stderr",
     "output_type": "stream",
     "text": [
      "\n",
      "  0%|                                                   | 0/100 [00:00<?, ?it/s]\u001b[A\n",
      "  1%|▍                                        | 1/100 [00:39<1:04:54, 39.34s/it]\u001b[A\n",
      "  2%|▊                                        | 2/100 [01:17<1:02:56, 38.54s/it]\u001b[A\n",
      "  3%|█▏                                       | 3/100 [01:54<1:01:08, 37.82s/it]\u001b[A\n",
      "  4%|█▋                                         | 4/100 [02:20<53:03, 33.16s/it]\u001b[A\n",
      "  5%|██▏                                        | 5/100 [02:47<49:11, 31.07s/it]\u001b[A\n",
      "  6%|██▌                                        | 6/100 [03:20<49:44, 31.75s/it]\u001b[A\n",
      "  7%|███                                        | 7/100 [03:56<51:09, 33.01s/it]\u001b[A\n",
      "  8%|███▍                                       | 8/100 [04:38<55:00, 35.87s/it]\u001b[A\n",
      "  9%|███▊                                       | 9/100 [05:15<54:58, 36.25s/it]\u001b[A\n",
      " 10%|████▏                                     | 10/100 [05:44<51:14, 34.16s/it]\u001b[A\n",
      " 11%|████▌                                     | 11/100 [06:23<52:39, 35.50s/it]\u001b[A\n",
      " 12%|█████                                     | 12/100 [07:01<53:06, 36.21s/it]\u001b[A\n",
      " 13%|█████▍                                    | 13/100 [07:46<56:19, 38.84s/it]\u001b[A\n",
      " 14%|█████▉                                    | 14/100 [08:24<55:33, 38.76s/it]\u001b[A\n",
      " 15%|██████▎                                   | 15/100 [09:03<54:55, 38.77s/it]\u001b[A\n",
      " 16%|██████▋                                   | 16/100 [09:37<52:11, 37.28s/it]\u001b[A\n",
      " 17%|███████▏                                  | 17/100 [10:11<50:08, 36.24s/it]\u001b[A\n",
      " 18%|███████▌                                  | 18/100 [10:54<52:26, 38.37s/it]\u001b[A\n",
      " 19%|███████▉                                  | 19/100 [11:33<52:02, 38.55s/it]\u001b[A\n",
      " 20%|████████▍                                 | 20/100 [12:08<49:59, 37.49s/it]\u001b[A\n",
      " 21%|████████▊                                 | 21/100 [12:37<45:55, 34.88s/it]\u001b[A\n",
      " 22%|█████████▏                                | 22/100 [13:15<46:31, 35.79s/it]\u001b[A\n",
      " 23%|█████████▋                                | 23/100 [13:55<47:29, 37.01s/it]\u001b[A\n",
      " 24%|██████████                                | 24/100 [14:26<44:36, 35.21s/it]\u001b[A\n",
      " 25%|██████████▌                               | 25/100 [15:07<46:14, 36.99s/it]\u001b[A\n",
      " 26%|██████████▉                               | 26/100 [15:38<43:20, 35.14s/it]\u001b[A\n",
      " 27%|███████████▎                              | 27/100 [16:13<42:53, 35.25s/it]\u001b[A\n",
      " 28%|███████████▊                              | 28/100 [16:43<40:20, 33.62s/it]\u001b[A\n",
      " 29%|████████████▏                             | 29/100 [17:17<39:52, 33.69s/it]\u001b[A\n",
      " 30%|████████████▌                             | 30/100 [17:49<38:49, 33.29s/it]\u001b[A\n",
      " 31%|█████████████                             | 31/100 [18:30<40:44, 35.43s/it]\u001b[A\n",
      " 32%|█████████████▍                            | 32/100 [19:06<40:38, 35.86s/it]\u001b[A\n",
      " 33%|████████████▊                          | 33/100 [28:50<3:43:24, 200.06s/it]\u001b[A\n",
      " 34%|█████████████▎                         | 34/100 [31:01<3:17:18, 179.37s/it]\u001b[A\n",
      " 35%|█████████████▋                         | 35/100 [31:47<2:31:07, 139.50s/it]\u001b[A\n",
      " 36%|██████████████                         | 36/100 [32:23<1:55:36, 108.39s/it]\u001b[A\n",
      " 37%|██████████████▊                         | 37/100 [32:57<1:30:31, 86.21s/it]\u001b[A\n",
      " 38%|███████████████▏                        | 38/100 [33:36<1:14:23, 72.00s/it]\u001b[A\n",
      " 39%|███████████████▌                        | 39/100 [34:11<1:01:54, 60.89s/it]\u001b[A\n",
      " 40%|████████████████▊                         | 40/100 [34:54<55:22, 55.38s/it]\u001b[A\n",
      " 41%|█████████████████▏                        | 41/100 [35:24<46:56, 47.74s/it]\u001b[A\n",
      " 42%|█████████████████▋                        | 42/100 [36:00<42:42, 44.19s/it]\u001b[A\n",
      " 43%|██████████████████                        | 43/100 [36:41<41:16, 43.44s/it]\u001b[A\n",
      " 44%|██████████████████▍                       | 44/100 [37:21<39:30, 42.33s/it]\u001b[A\n",
      " 45%|██████████████████▉                       | 45/100 [37:58<37:27, 40.86s/it]\u001b[A\n",
      " 46%|███████████████████▎                      | 46/100 [38:29<34:06, 37.89s/it]\u001b[A\n",
      " 47%|███████████████████▋                      | 47/100 [39:07<33:23, 37.81s/it]\u001b[A\n",
      " 48%|████████████████████▏                     | 48/100 [39:45<32:42, 37.74s/it]\u001b[A\n",
      " 49%|████████████████████▌                     | 49/100 [40:25<32:50, 38.64s/it]\u001b[A\n",
      " 50%|█████████████████████                     | 50/100 [41:04<32:14, 38.69s/it]\u001b[A\n",
      " 51%|█████████████████████▍                    | 51/100 [41:34<29:20, 35.92s/it]\u001b[A\n",
      " 52%|█████████████████████▊                    | 52/100 [42:04<27:31, 34.42s/it]\u001b[A\n",
      " 53%|██████████████████████▎                   | 53/100 [42:28<24:29, 31.27s/it]\u001b[A\n",
      " 54%|██████████████████████▋                   | 54/100 [43:09<26:07, 34.08s/it]\u001b[A\n",
      " 55%|███████████████████████                   | 55/100 [43:38<24:21, 32.48s/it]\u001b[A\n",
      " 56%|███████████████████████▌                  | 56/100 [44:09<23:32, 32.11s/it]\u001b[A\n",
      " 57%|███████████████████████▉                  | 57/100 [44:38<22:25, 31.29s/it]\u001b[A\n",
      " 58%|████████████████████████▎                 | 58/100 [45:14<22:47, 32.57s/it]\u001b[A\n",
      " 59%|████████████████████████▊                 | 59/100 [45:54<23:47, 34.82s/it]\u001b[A\n",
      " 60%|█████████████████████████▏                | 60/100 [46:35<24:26, 36.66s/it]\u001b[A\n",
      " 61%|█████████████████████████▌                | 61/100 [47:11<23:47, 36.59s/it]\u001b[A\n",
      " 62%|██████████████████████████                | 62/100 [47:53<24:13, 38.24s/it]\u001b[A\n",
      " 63%|██████████████████████████▍               | 63/100 [48:46<26:11, 42.47s/it]\u001b[A\n",
      " 64%|██████████████████████████▉               | 64/100 [50:12<33:17, 55.49s/it]\u001b[A\n",
      " 65%|███████████████████████████▎              | 65/100 [51:52<40:16, 69.03s/it]\u001b[A\n",
      " 66%|███████████████████████████▋              | 66/100 [52:31<33:53, 59.80s/it]\u001b[A\n",
      " 67%|████████████████████████████▏             | 67/100 [53:10<29:34, 53.78s/it]\u001b[A\n",
      " 68%|████████████████████████████▌             | 68/100 [53:38<24:27, 45.87s/it]\u001b[A\n",
      " 69%|████████████████████████████▉             | 69/100 [54:12<21:53, 42.37s/it]\u001b[A\n",
      " 70%|█████████████████████████████▍            | 70/100 [54:47<20:03, 40.12s/it]\u001b[A\n",
      " 71%|█████████████████████████████▊            | 71/100 [55:23<18:48, 38.92s/it]\u001b[A\n",
      " 72%|██████████████████████████████▏           | 72/100 [55:51<16:37, 35.62s/it]\u001b[A\n",
      " 73%|██████████████████████████████▋           | 73/100 [56:24<15:43, 34.93s/it]\u001b[A\n",
      " 74%|███████████████████████████████           | 74/100 [56:56<14:43, 33.98s/it]\u001b[A\n",
      " 75%|███████████████████████████████▌          | 75/100 [57:28<13:57, 33.52s/it]\u001b[A\n",
      " 76%|███████████████████████████████▉          | 76/100 [58:21<15:43, 39.33s/it]\u001b[A\n",
      " 77%|████████████████████████████████▎         | 77/100 [58:59<14:53, 38.86s/it]\u001b[A\n",
      " 78%|████████████████████████████████▊         | 78/100 [59:46<15:06, 41.19s/it]\u001b[A\n",
      " 79%|███████████████████████████████▌        | 79/100 [1:00:33<15:03, 43.03s/it]\u001b[A\n",
      " 80%|████████████████████████████████        | 80/100 [1:01:14<14:07, 42.36s/it]\u001b[A\n",
      " 81%|████████████████████████████████▍       | 81/100 [1:01:51<12:58, 40.98s/it]\u001b[A\n",
      " 82%|████████████████████████████████▊       | 82/100 [1:02:23<11:29, 38.28s/it]\u001b[A\n",
      " 83%|█████████████████████████████████▏      | 83/100 [1:03:01<10:49, 38.18s/it]\u001b[A\n",
      " 84%|█████████████████████████████████▌      | 84/100 [1:03:45<10:38, 39.89s/it]\u001b[A\n",
      " 85%|██████████████████████████████████      | 85/100 [1:04:20<09:35, 38.39s/it]\u001b[A\n",
      " 86%|██████████████████████████████████▍     | 86/100 [1:05:00<09:01, 38.71s/it]\u001b[A\n",
      " 87%|██████████████████████████████████▊     | 87/100 [1:05:48<09:00, 41.55s/it]\u001b[A\n",
      " 88%|███████████████████████████████████▏    | 88/100 [1:06:20<07:43, 38.59s/it]\u001b[A\n",
      " 89%|███████████████████████████████████▌    | 89/100 [1:07:03<07:20, 40.06s/it]\u001b[A\n",
      " 90%|████████████████████████████████████    | 90/100 [1:07:46<06:48, 40.88s/it]\u001b[A\n",
      " 91%|████████████████████████████████████▍   | 91/100 [1:08:36<06:32, 43.60s/it]\u001b[A\n",
      " 92%|████████████████████████████████████▊   | 92/100 [1:09:24<06:00, 45.12s/it]\u001b[A\n",
      " 93%|█████████████████████████████████████▏  | 93/100 [1:09:54<04:44, 40.59s/it]\u001b[A\n",
      " 94%|█████████████████████████████████████▌  | 94/100 [1:10:21<03:38, 36.46s/it]\u001b[A\n",
      " 95%|██████████████████████████████████████  | 95/100 [1:10:57<03:00, 36.11s/it]\u001b[A\n",
      " 96%|██████████████████████████████████████▍ | 96/100 [1:11:45<02:39, 39.90s/it]\u001b[A\n",
      " 97%|██████████████████████████████████████▊ | 97/100 [1:12:20<01:54, 38.33s/it]\u001b[A\n",
      " 98%|███████████████████████████████████████▏| 98/100 [1:13:05<01:20, 40.43s/it]\u001b[A\n",
      " 99%|███████████████████████████████████████▌| 99/100 [1:13:53<00:42, 42.50s/it]\u001b[A\n",
      "100%|███████████████████████████████████████| 100/100 [1:14:28<00:00, 44.69s/it]\u001b[A\n"
     ]
    }
   ],
   "source": [
    "upsampling_factor = 1 # Default (no upsampling) -> you can try to increase it (but it does not seem to improve performances)\n",
    "for random_state in tqdm(range(100)):\n",
    "    subsampling_factor = None\n",
    "    exp = ExperimentPU(cfeatures, efeatures, random_state, subsampling_factor, LinearLogisticRegression, LogisticPropensity, False, baseline_model=LogRegression, da=False, upsample=upsampling_factor)\n",
    "    exp.fit(n_inits=10, verbose=False)\n",
    "    exp.fit_baseline()\n",
    "    exp.scores()\n",
    "    exp.save('experiments/my_experiment/{}c_{}e_{}_{}_balanced/'.format(len(cfeatures), len(efeatures), random_state, upsampling_factor))"
   ]
  },
  {
   "cell_type": "markdown",
   "id": "97704fd3-f4f9-43a8-8beb-c723511f8308",
   "metadata": {},
   "source": [
    "## Commands to launch one experiment and get the results"
   ]
  },
  {
   "cell_type": "code",
   "execution_count": 55,
   "id": "5b373353-d9ba-4cf3-b62d-64e9587548bd",
   "metadata": {},
   "outputs": [
    {
     "name": "stdout",
     "output_type": "stream",
     "text": [
      "Likelihood at initialization 1: -0.065\n",
      "Likelihood at initialization 2: -0.064\n",
      "Likelihood at initialization 3: -0.069\n",
      "Likelihood at initialization 4: -0.063\n",
      "Likelihood at initialization 5: -0.061\n",
      "Likelihood at initialization 6: -0.065\n",
      "Likelihood at initialization 7: -0.061\n",
      "Likelihood at initialization 8: -0.066\n",
      "Likelihood at initialization 9: -0.061\n",
      "Likelihood at initialization 10: -0.062\n",
      "Best likelihood over 10 initializations : -0.061\n"
     ]
    }
   ],
   "source": [
    "exp = ExperimentPU(cfeatures, efeatures, 0, None, LinearLogisticRegression, LogisticPropensity, False, baseline_model=LogRegression, da=False, w=1., upsample=1)\n",
    "exp.fit(verbose=True, n_inits=10)\n",
    "exp.fit_baseline()\n",
    "exp.scores()\n",
    "# exp.save('Models/{}c_{}e_{}_{}_balanced/'.format(len(cfeatures), len(efeatures), 2, 30))"
   ]
  },
  {
   "cell_type": "markdown",
   "id": "b391918b-f8de-4cf7-bf42-3d870a4c4bd3",
   "metadata": {},
   "source": [
    "### Performance evaluation for the above experiment\n",
    "\n",
    "Please not that, the prediction threshold used for `Precision`, `Recall` and `F1` score metrics was not calibrated. Hence, the performance differences do not mean anything.\n",
    "\n",
    "To compare the results, please rely on the `ROC AUC` and `PR AUC` metrics that are not sensitive to this default threshold."
   ]
  },
  {
   "cell_type": "code",
   "execution_count": 49,
   "id": "5c346511-8f3b-4425-b6c8-438dc3c9f9bd",
   "metadata": {},
   "outputs": [
    {
     "data": {
      "text/plain": [
       "{'ROC AUC': 0.8238863341069717,\n",
       " 'PR AUC': 0.18780958665073394,\n",
       " 'Recall': 0.41411042944785276,\n",
       " 'Precision': 0.13513513513513514,\n",
       " 'F1': 0.2037735849056604}"
      ]
     },
     "execution_count": 49,
     "metadata": {},
     "output_type": "execute_result"
    }
   ],
   "source": [
    "# Class prediction results for Dang Van\n",
    "exp.DV_cscores"
   ]
  },
  {
   "cell_type": "code",
   "execution_count": 50,
   "id": "3b7a8830-8f9b-43f2-b68c-448a1aac6285",
   "metadata": {},
   "outputs": [
    {
     "data": {
      "text/plain": [
       "{'ROC AUC': 0.8056255420317593,\n",
       " 'PR AUC': 0.05327239205474168,\n",
       " 'Recall': 0.6142857142857143,\n",
       " 'Precision': 0.04223968565815324,\n",
       " 'F1': 0.07904411764705882}"
      ]
     },
     "execution_count": 50,
     "metadata": {},
     "output_type": "execute_result"
    }
   ],
   "source": [
    "# Label prediction results for Dang Van\n",
    "exp.DV_scores"
   ]
  },
  {
   "cell_type": "code",
   "execution_count": 51,
   "id": "229f5e6f-1dd6-490e-8244-41185c80eef1",
   "metadata": {},
   "outputs": [
    {
     "data": {
      "text/plain": [
       "{'ROC AUC': 0.8650607995892556,\n",
       " 'PR AUC': 0.3597984729642183,\n",
       " 'Recall': 0.6349693251533742,\n",
       " 'Precision': 0.2134020618556701,\n",
       " 'F1': 0.3194444444444444}"
      ]
     },
     "execution_count": 51,
     "metadata": {},
     "output_type": "execute_result"
    }
   ],
   "source": [
    "# Class prediction results for standard classifier\n",
    "exp.base_cscores"
   ]
  },
  {
   "cell_type": "code",
   "execution_count": 52,
   "id": "e044a18f-1d84-4165-b89b-546bdf1ceb60",
   "metadata": {},
   "outputs": [
    {
     "data": {
      "text/plain": [
       "{'ROC AUC': 0.879463724991776,\n",
       " 'PR AUC': 0.1292916773588844,\n",
       " 'Recall': 0.7785714285714286,\n",
       " 'Precision': 0.057308096740273394,\n",
       " 'F1': 0.10675808031341821}"
      ]
     },
     "execution_count": 52,
     "metadata": {},
     "output_type": "execute_result"
    }
   ],
   "source": [
    "# Label prediction results for standard classifier\n",
    "exp.base_perfs"
   ]
  },
  {
   "cell_type": "code",
   "execution_count": 53,
   "id": "f134ab34-01d2-49e5-9eb4-c27627bb2b7b",
   "metadata": {},
   "outputs": [
    {
     "data": {
      "text/plain": [
       "{'ROC AUC': 0.6750905706936025,\n",
       " 'PR AUC': 0.07939547128213242,\n",
       " 'Recall': 0.9263803680981595,\n",
       " 'Precision': 0.03794446538509863,\n",
       " 'F1': 0.07290283645141822}"
      ]
     },
     "execution_count": 53,
     "metadata": {},
     "output_type": "execute_result"
    }
   ],
   "source": [
    "# Class prediction results for PU learning\n",
    "exp.cscores"
   ]
  },
  {
   "cell_type": "code",
   "execution_count": 54,
   "id": "dca09540-8f07-44da-90e9-b32034640027",
   "metadata": {},
   "outputs": [
    {
     "data": {
      "text/plain": [
       "{'ROC AUC': 0.5741719997607584,\n",
       " 'PR AUC': 0.07981365981769739,\n",
       " 'Recall': 0.5642857142857143,\n",
       " 'Precision': 0.01518646674356017,\n",
       " 'F1': 0.029576937476600527}"
      ]
     },
     "execution_count": 54,
     "metadata": {},
     "output_type": "execute_result"
    }
   ],
   "source": [
    "# Label prediction results for PU learning\n",
    "exp.perfs"
   ]
  },
  {
   "cell_type": "code",
   "execution_count": null,
   "id": "6e985778-e791-4532-8816-3df795e5ff68",
   "metadata": {},
   "outputs": [],
   "source": []
  }
 ],
 "metadata": {
  "kernelspec": {
   "display_name": "fatigue_pul",
   "language": "python",
   "name": "fatigue_pul"
  },
  "language_info": {
   "codemirror_mode": {
    "name": "ipython",
    "version": 3
   },
   "file_extension": ".py",
   "mimetype": "text/x-python",
   "name": "python",
   "nbconvert_exporter": "python",
   "pygments_lexer": "ipython3",
   "version": "3.9.13"
  }
 },
 "nbformat": 4,
 "nbformat_minor": 5
}
