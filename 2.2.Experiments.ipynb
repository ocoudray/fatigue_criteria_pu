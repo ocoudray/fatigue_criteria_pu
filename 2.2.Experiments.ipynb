{
 "cells": [
  {
   "cell_type": "code",
   "execution_count": 1,
   "id": "d6c1551b-a490-4c6a-bdbe-66a5f64bd401",
   "metadata": {},
   "outputs": [
    {
     "name": "stdout",
     "output_type": "stream",
     "text": [
      "env: DATABASE_PATH=data/fatigue_database.csv\n"
     ]
    }
   ],
   "source": [
    "%load_ext autoreload\n",
    "%autoreload 2\n",
    "# Replace the path below with the location of the fatigue database file if needed\n",
    "%env DATABASE_PATH=data/fatigue_database.csv"
   ]
  },
  {
   "cell_type": "code",
   "execution_count": 2,
   "id": "d6cb0c67-0211-401c-b52d-ddd9577b8b91",
   "metadata": {},
   "outputs": [],
   "source": [
    "from pu_criterion.experiment import ExperimentPU\n",
    "from pu_criterion.non_pu_classification import LogRegression, LDA\n",
    "from pu_criterion.PU import PUClassifier\n",
    "from pu_criterion.classification import LinearLogisticRegression, LinearLogisticRegression2, RandomForestClass, LinearDiscriminantClassifier\n",
    "from pu_criterion.propensity import LogProbitPropensity, LogisticPropensity, GumbelPropensity\n",
    "import warnings\n",
    "warnings.filterwarnings('ignore')\n",
    "from tqdm import tqdm\n",
    "import numpy as np\n",
    "from pu_criterion.visualisation import plot_results, criterion_2d, scatter\n",
    "import matplotlib.pyplot as plt"
   ]
  },
  {
   "cell_type": "markdown",
   "id": "72f67b34-b458-4919-a88f-29ac36276611",
   "metadata": {},
   "source": [
    "# PU learning application to fatigue database\n",
    "\n",
    "## Features\n",
    "\n",
    "Choice of features for:\n",
    "+ the classification model (fatigue criterion)\n",
    "+ the propensity model (affecting the observations)"
   ]
  },
  {
   "cell_type": "code",
   "execution_count": 3,
   "id": "27f25cbf-8643-4ca0-9bac-1858cb5b6126",
   "metadata": {},
   "outputs": [],
   "source": [
    "# Features for classification model\n",
    "cfeatures_DV = ['p_n', 'tau_n']  # Dang Van variables\n",
    "cfeatures = ['tresca_a_m_0_mean_n', 'sllbt_a_a_25_max_n', 'sttc_a_m_25_max_n', 'Tau0_25_mean', 'thickness_0_mean']  # Additional variables\n",
    "\n",
    "# Features for propensity model\n",
    "efeatures = ['fm', 'f0']   # Equivalent test severity + initial severity"
   ]
  },
  {
   "cell_type": "markdown",
   "id": "b8f154d6-8d29-4c55-ad37-9badfa2b1863",
   "metadata": {},
   "source": [
    "## Experiment parameters\n",
    "\n",
    "### PU learning model\n",
    "The PU learning model is defined by:\n",
    "+ a classification model (default `LinearLogisticRegression`, note that `LinearDiscriminantClassifier` is also possible)\n",
    "+ a propensity model (default `LogisticPropensity`, other possible choices are `LogProbitPropensity`and `GumbelPropensity`)\n",
    "\n",
    "### Sampling parameters\n",
    "+ subsampling_factor: to subsample the majority class (default: `None`, ie no subsampling)\n",
    "+ upsampling_factor: to oversample the minority class (default: `1`, ie no upsampling)\n",
    "\n",
    "### Random state\n",
    "Represents the seed for random operations involved in the expriment: the train/test partition. Note that expriments are repeated multiple times with different seeds to assess the consistency of the results.\n",
    "\n",
    "### Execution time\n",
    "For a PU learning model with `LinearLogisticRegression` as classifier and `LogisticPropensity` for propensity, each experiment takes normally less than $1$ minute. (Execution time is higher for the other propensity models.)"
   ]
  },
  {
   "cell_type": "markdown",
   "id": "ce535f81-bf79-45e6-897f-5dafb577b9a5",
   "metadata": {},
   "source": [
    "## Commands to launch multiple experiments and save the outputs\n",
    "\n",
    "The estimated model, the set of features used and the performances obtained are stored in the specified folder in the command `exp.save(...)`. Of course, feel free to adapt it to your needs."
   ]
  },
  {
   "cell_type": "code",
   "execution_count": 4,
   "id": "a824b8d4-1383-4102-a276-78b2b7e1c12d",
   "metadata": {},
   "outputs": [
    {
     "name": "stderr",
     "output_type": "stream",
     "text": [
      "100%|█████████████████████████████████████████| 100/100 [59:21<00:00, 35.62s/it]\n"
     ]
    }
   ],
   "source": [
    "upsampling_factor = 1 # Default (no upsampling) -> you can try to increase it (but it does not seem to improve performances)\n",
    "for random_state in tqdm(range(100)):\n",
    "    subsampling_factor = None\n",
    "    exp = ExperimentPU(cfeatures, efeatures, random_state, subsampling_factor, LinearLogisticRegression, LogisticPropensity, False, baseline_model=LogRegression, da=False, upsample=upsampling_factor)\n",
    "    exp.fit(n_inits=10, verbose=False)\n",
    "    exp.fit_baseline()\n",
    "    exp.scores()\n",
    "    exp.save('experiments/my_experiment/{}c_{}e_{}_{}_balanced/'.format(len(cfeatures), len(efeatures), random_state, upsampling_factor))"
   ]
  },
  {
   "cell_type": "markdown",
   "id": "97704fd3-f4f9-43a8-8beb-c723511f8308",
   "metadata": {},
   "source": [
    "## Commands to launch one experiment and get the results"
   ]
  },
  {
   "cell_type": "code",
   "execution_count": 5,
   "id": "5b373353-d9ba-4cf3-b62d-64e9587548bd",
   "metadata": {},
   "outputs": [
    {
     "name": "stdout",
     "output_type": "stream",
     "text": [
      "Likelihood at initialization 1: -0.065\n",
      "Likelihood at initialization 2: -0.064\n",
      "Likelihood at initialization 3: -0.069\n",
      "Likelihood at initialization 4: -0.063\n",
      "Likelihood at initialization 5: -0.061\n",
      "Likelihood at initialization 6: -0.065\n",
      "Likelihood at initialization 7: -0.061\n",
      "Likelihood at initialization 8: -0.066\n",
      "Likelihood at initialization 9: -0.061\n",
      "Likelihood at initialization 10: -0.062\n",
      "Best likelihood over 10 initializations : -0.061\n"
     ]
    }
   ],
   "source": [
    "exp = ExperimentPU(cfeatures, efeatures, 0, None, LinearLogisticRegression, LogisticPropensity, False, baseline_model=LogRegression, da=False, w=1., upsample=1)\n",
    "exp.fit(verbose=True, n_inits=10)\n",
    "exp.fit_baseline()\n",
    "exp.scores()\n",
    "# exp.save('Models/{}c_{}e_{}_{}_balanced/'.format(len(cfeatures), len(efeatures), 2, 30))"
   ]
  },
  {
   "cell_type": "markdown",
   "id": "b391918b-f8de-4cf7-bf42-3d870a4c4bd3",
   "metadata": {},
   "source": [
    "### Performance evaluation for the above experiment\n",
    "\n",
    "Please not that, the prediction threshold used for `Precision`, `Recall` and `F1` score metrics was not calibrated. Hence, the performance differences do not mean anything.\n",
    "\n",
    "To compare the results, please rely on the `ROC AUC` and `PR AUC` metrics that are not sensitive to this default threshold."
   ]
  },
  {
   "cell_type": "code",
   "execution_count": 6,
   "id": "5c346511-8f3b-4425-b6c8-438dc3c9f9bd",
   "metadata": {},
   "outputs": [
    {
     "data": {
      "text/plain": [
       "{'ROC AUC': 0.8238863341069717,\n",
       " 'PR AUC': 0.18780958665073394,\n",
       " 'Recall': 0.41411042944785276,\n",
       " 'Precision': 0.13513513513513514,\n",
       " 'F1': 0.2037735849056604}"
      ]
     },
     "execution_count": 6,
     "metadata": {},
     "output_type": "execute_result"
    }
   ],
   "source": [
    "# Class prediction results for Dang Van\n",
    "exp.DV_cscores"
   ]
  },
  {
   "cell_type": "code",
   "execution_count": 7,
   "id": "3b7a8830-8f9b-43f2-b68c-448a1aac6285",
   "metadata": {},
   "outputs": [
    {
     "data": {
      "text/plain": [
       "{'ROC AUC': 0.8056255420317593,\n",
       " 'PR AUC': 0.05327239205474168,\n",
       " 'Recall': 0.6142857142857143,\n",
       " 'Precision': 0.04223968565815324,\n",
       " 'F1': 0.07904411764705882}"
      ]
     },
     "execution_count": 7,
     "metadata": {},
     "output_type": "execute_result"
    }
   ],
   "source": [
    "# Label prediction results for Dang Van\n",
    "exp.DV_scores"
   ]
  },
  {
   "cell_type": "code",
   "execution_count": 8,
   "id": "229f5e6f-1dd6-490e-8244-41185c80eef1",
   "metadata": {},
   "outputs": [
    {
     "data": {
      "text/plain": [
       "{'ROC AUC': 0.8656603474561619,\n",
       " 'PR AUC': 0.35405461748722317,\n",
       " 'Recall': 0.8957055214723927,\n",
       " 'Precision': 0.09017912291537987,\n",
       " 'F1': 0.1638608305274972}"
      ]
     },
     "execution_count": 8,
     "metadata": {},
     "output_type": "execute_result"
    }
   ],
   "source": [
    "# Class prediction results for standard classifier\n",
    "exp.base_cscores"
   ]
  },
  {
   "cell_type": "code",
   "execution_count": 9,
   "id": "e044a18f-1d84-4165-b89b-546bdf1ceb60",
   "metadata": {},
   "outputs": [
    {
     "data": {
      "text/plain": [
       "{'ROC AUC': 0.8795422261431263,\n",
       " 'PR AUC': 0.1261839512703237,\n",
       " 'Recall': 1.0,\n",
       " 'Precision': 0.014441922838869404,\n",
       " 'F1': 0.02847264592231035}"
      ]
     },
     "execution_count": 9,
     "metadata": {},
     "output_type": "execute_result"
    }
   ],
   "source": [
    "# Label prediction results for standard classifier\n",
    "exp.base_perfs"
   ]
  },
  {
   "cell_type": "code",
   "execution_count": 10,
   "id": "f134ab34-01d2-49e5-9eb4-c27627bb2b7b",
   "metadata": {},
   "outputs": [
    {
     "data": {
      "text/plain": [
       "{'ROC AUC': 0.8646737621350322,\n",
       " 'PR AUC': 0.3490308259294979,\n",
       " 'Recall': 0.7300613496932515,\n",
       " 'Precision': 0.10932475884244373,\n",
       " 'F1': 0.19017179384738314}"
      ]
     },
     "execution_count": 10,
     "metadata": {},
     "output_type": "execute_result"
    }
   ],
   "source": [
    "# Class prediction results for PU learning\n",
    "exp.cscores"
   ]
  },
  {
   "cell_type": "code",
   "execution_count": 11,
   "id": "dca09540-8f07-44da-90e9-b32034640027",
   "metadata": {},
   "outputs": [
    {
     "data": {
      "text/plain": [
       "{'ROC AUC': 0.8767416041149555,\n",
       " 'PR AUC': 0.19027279808278527,\n",
       " 'Recall': 0.8214285714285714,\n",
       " 'Precision': 0.05388940955951265,\n",
       " 'F1': 0.10114335971855762}"
      ]
     },
     "execution_count": 11,
     "metadata": {},
     "output_type": "execute_result"
    }
   ],
   "source": [
    "# Label prediction results for PU learning\n",
    "exp.perfs"
   ]
  },
  {
   "cell_type": "code",
   "execution_count": null,
   "id": "6e985778-e791-4532-8816-3df795e5ff68",
   "metadata": {},
   "outputs": [],
   "source": []
  }
 ],
 "metadata": {
  "kernelspec": {
   "display_name": "fatigue_pul",
   "language": "python",
   "name": "fatigue_pul"
  },
  "language_info": {
   "codemirror_mode": {
    "name": "ipython",
    "version": 3
   },
   "file_extension": ".py",
   "mimetype": "text/x-python",
   "name": "python",
   "nbconvert_exporter": "python",
   "pygments_lexer": "ipython3",
   "version": "3.9.13"
  }
 },
 "nbformat": 4,
 "nbformat_minor": 5
}
