{
 "cells": [
  {
   "cell_type": "code",
   "execution_count": 1,
   "id": "430743a1-5580-4020-bb70-562e45430d2a",
   "metadata": {},
   "outputs": [],
   "source": [
    "%load_ext autoreload\n",
    "%autoreload 2"
   ]
  },
  {
   "cell_type": "code",
   "execution_count": 2,
   "id": "e9a5f711-ca46-49ca-b2b6-36ab7f5f9c9a",
   "metadata": {},
   "outputs": [],
   "source": [
    "from pu_criterion.dataset import FDB\n",
    "import matplotlib.pyplot as plt\n",
    "from sklearn.metrics import roc_auc_score, average_precision_score, roc_curve, precision_recall_curve\n",
    "from pu_criterion.PU import PUClassifier\n",
    "from pu_criterion.classification import LinearLogisticRegression, LinearLogisticRegression2, RandomForestClass, LinearDiscriminantClassifier\n",
    "from pu_criterion.propensity import LogProbitPropensity, LogisticPropensity, GaussianSNPropensity\n",
    "import numpy as np\n",
    "import warnings\n",
    "warnings.filterwarnings('ignore')\n",
    "from pu_criterion.visualisation import scatter, plot_train_dataset, criterion_2d, propensity_2d, plot_results\n",
    "from pu_criterion.scoring import scores, DV_scores, cscores"
   ]
  },
  {
   "cell_type": "markdown",
   "id": "a6917b9e-e15a-484e-b69b-3089a080534a",
   "metadata": {},
   "source": [
    "# PU learning with propensity estimation through EM algorithm"
   ]
  },
  {
   "cell_type": "code",
   "execution_count": 3,
   "id": "ce0a3899-c6f0-44dc-b127-cd9a2b0f6eb6",
   "metadata": {},
   "outputs": [],
   "source": [
    "# Features for classification (fatigue criterion)\n",
    "# cfeatures = ['p_n', 'tau_n']    # Only Dang Van variables\n",
    "cfeatures = ['tresca_a_m_0_mean_n', 'sllbt_a_a_25_max_n', 'sttc_a_m_25_max_n', 'Tau0_25_mean', 'thickness_0_mean']    # additional variables\n",
    "\n",
    "# Features for propensity\n",
    "efeatures = ['fm', 'f0']   # equivalent severity + initial severity in the propensity"
   ]
  },
  {
   "cell_type": "code",
   "execution_count": 4,
   "id": "39aeb7b3-4cdf-4411-be15-98fde41cd614",
   "metadata": {},
   "outputs": [],
   "source": [
    "# Reading data and preparing (split train / test)\n",
    "# factor parameter: controls the imbalance (factor=20 means 20 times more unbroken zones than broken ones)\n",
    "dataset = FDB('data/fatigue_database.csv', cfeatures, efeatures, feature_norm='Tau0_0_mean')\n",
    "dataset.prepare(random_state=0, factor=None, cv=None)"
   ]
  },
  {
   "cell_type": "code",
   "execution_count": 5,
   "id": "cf56d9e9-b70f-467d-844c-f0f0bd63107c",
   "metadata": {},
   "outputs": [],
   "source": [
    "# Access training and test sets\n",
    "X_train, Xeq_train, Z_train, Y_train = dataset.get_train()\n",
    "X_val, Xeq_val, Z_val, Y_val = dataset.get_val()\n",
    "X_test, Xeq_test, Z_test, Y_test = dataset.get_test()"
   ]
  },
  {
   "cell_type": "code",
   "execution_count": 6,
   "id": "796cca5d-4365-4668-8265-93dc9d4ab20c",
   "metadata": {},
   "outputs": [
    {
     "data": {
      "text/plain": [
       "9673"
      ]
     },
     "execution_count": 6,
     "metadata": {},
     "output_type": "execute_result"
    }
   ],
   "source": [
    "# Number of training examples (zones)\n",
    "len(Y_train)"
   ]
  },
  {
   "cell_type": "code",
   "execution_count": 7,
   "id": "6a4b518f-1244-44e7-b31a-92f259869598",
   "metadata": {},
   "outputs": [
    {
     "data": {
      "text/plain": [
       "9694"
      ]
     },
     "execution_count": 7,
     "metadata": {},
     "output_type": "execute_result"
    }
   ],
   "source": [
    "# Number of test examples (zones)\n",
    "len(Y_test)"
   ]
  },
  {
   "cell_type": "code",
   "execution_count": 8,
   "id": "3cc2517a-94d1-4be3-984a-d0b78cbfa6df",
   "metadata": {},
   "outputs": [
    {
     "name": "stdout",
     "output_type": "stream",
     "text": [
      "Training set size: 9673\n",
      "True positive class ratio >= 0.032\n",
      "Observed positive class ratio: 0.016\n",
      "Ratio of labeled instances among positives <= 0.495\n"
     ]
    }
   ],
   "source": [
    "# Class imbalance\n",
    "print(\"Training set size: {}\".format(len(Z_train)))\n",
    "print(\"True positive class ratio >= {:.3f}\".format(sum(Z_train)/len(Z_train)))\n",
    "print(\"Observed positive class ratio: {:.3f}\".format(sum(Y_train)/len(Y_train)))\n",
    "print(\"Ratio of labeled instances among positives <= {:.3f}\".format(sum(Y_train)/len(Y_train)*len(Z_train)/sum(Z_train)))"
   ]
  },
  {
   "cell_type": "code",
   "execution_count": 9,
   "id": "8cee97bd-63f0-41ab-ab3a-7f6b8c62c5fd",
   "metadata": {},
   "outputs": [],
   "source": [
    "# Model definition: one classification model + one propensity model\n",
    "model = PUClassifier(LinearLogisticRegression(), LogisticPropensity(), pdf=False)"
   ]
  },
  {
   "cell_type": "code",
   "execution_count": 10,
   "id": "dafde474-16d9-45b1-a15e-27d436f98125",
   "metadata": {},
   "outputs": [
    {
     "name": "stdout",
     "output_type": "stream",
     "text": [
      "Initialization 0, log-likelihood after 100 iterations max: -0.0655\n",
      "Initialization 1, log-likelihood after 100 iterations max: -0.0643\n",
      "Initialization 2, log-likelihood after 100 iterations max: -0.0695\n",
      "Initialization 3, log-likelihood after 100 iterations max: -0.0632\n",
      "Initialization 4, log-likelihood after 100 iterations max: -0.0615\n",
      "Initialization 5, log-likelihood after 100 iterations max: -0.0645\n",
      "Initialization 6, log-likelihood after 100 iterations max: -0.0609\n",
      "Initialization 7, log-likelihood after 100 iterations max: -0.0663\n",
      "Initialization 8, log-likelihood after 100 iterations max: -0.0610\n",
      "Initialization 9, log-likelihood after 100 iterations max: -0.0618\n"
     ]
    }
   ],
   "source": [
    "# Multiple runs to find the best initialization\n",
    "n_inits = 10\n",
    "t1, t2 = None, None\n",
    "ll = -np.inf\n",
    "for k in range(n_inits):\n",
    "    model.initialization(X_train, Xeq_train, Y_train, Y_train)\n",
    "    model.fit(X_train, Xeq_train, Y_train, max_iter=100, warm_start=True, balance=False)\n",
    "    l = model.loglikelihood(X_train, Xeq_train, Y_train)\n",
    "    print(f\"Initialization {k}, log-likelihood after 100 iterations max: {l:.4f}\")\n",
    "    if l > ll:\n",
    "        ll = l\n",
    "        t1 = model.cmodel.params.copy()\n",
    "        t2 = model.emodel.params.copy()"
   ]
  },
  {
   "cell_type": "code",
   "execution_count": 11,
   "id": "7a07a72b-c889-4edf-8b75-b76d9fb476d9",
   "metadata": {},
   "outputs": [],
   "source": [
    "# Optimize model with the best initialization\n",
    "model.cmodel.params = t1\n",
    "model.emodel.params = t2\n",
    "model.fit(X_train, Xeq_train, Y_train, max_iter=100, warm_start=True, balance=False)"
   ]
  },
  {
   "cell_type": "code",
   "execution_count": 12,
   "id": "314e6671-4237-4fa1-9657-a0603ab02e96",
   "metadata": {},
   "outputs": [
    {
     "data": {
      "text/plain": [
       "PU classifier \n",
       "theta_1 = [-4.03577257  0.95558979  0.66916922  0.09037176 -0.28681058 -0.31199109]\n",
       "phi = [-3.2801077   1.21866833 -0.62163113]"
      ]
     },
     "execution_count": 12,
     "metadata": {},
     "output_type": "execute_result"
    }
   ],
   "source": [
    "# Print estimated parameters\n",
    "model"
   ]
  },
  {
   "cell_type": "code",
   "execution_count": 13,
   "id": "0ccb5961-d488-4e4b-a07d-13766fb3c709",
   "metadata": {},
   "outputs": [
    {
     "name": "stdout",
     "output_type": "stream",
     "text": [
      "Loglikelihood on the training set: -0.06091597298634052\n"
     ]
    }
   ],
   "source": [
    "print('Loglikelihood on the training set: {}'.format(model.loglikelihood(X_train, Xeq_train, Y_train)))"
   ]
  },
  {
   "cell_type": "code",
   "execution_count": 14,
   "id": "e7860aea-e656-4453-b882-f2caee2506cf",
   "metadata": {},
   "outputs": [
    {
     "name": "stdout",
     "output_type": "stream",
     "text": [
      "Loglikelihood on the test set: -0.0569047412276887\n"
     ]
    }
   ],
   "source": [
    "print('Loglikelihood on the test set: {}'.format(model.loglikelihood(X_test, Xeq_test, Y_test)))"
   ]
  },
  {
   "cell_type": "code",
   "execution_count": 15,
   "id": "7e2883de-3065-48d9-af53-6769c836d46d",
   "metadata": {},
   "outputs": [
    {
     "name": "stdout",
     "output_type": "stream",
     "text": [
      "Estimated class prior: 0.048\n",
      "Estimated ratio of labeled instances among positives: 0.316\n"
     ]
    }
   ],
   "source": [
    "# In the estimation\n",
    "print(\"Estimated class prior: {}\".format(round(np.mean(model.expectation(X_train, Xeq_train, Y_train)),3)))\n",
    "print(\"Estimated ratio of labeled instances among positives: {}\".format(round(np.mean(model.predict_proba(X_train, Xeq_train))/np.mean(model.expectation(X_train, Xeq_train, Y_train)),3)))"
   ]
  },
  {
   "cell_type": "markdown",
   "id": "2ed61d77-a3fa-4ed9-be3a-1ae9fc0c64bd",
   "metadata": {},
   "source": [
    "## Performance analysis"
   ]
  },
  {
   "cell_type": "code",
   "execution_count": 16,
   "id": "cdc8d460-7b4f-47fb-bacb-0759ea865ef3",
   "metadata": {},
   "outputs": [
    {
     "data": {
      "text/plain": [
       "{'ROC AUC': 0.8767416041149555,\n",
       " 'PR AUC': 0.19027279808278527,\n",
       " 'Recall': 0.8214285714285714,\n",
       " 'Precision': 0.05388940955951265,\n",
       " 'F1': 0.10114335971855762}"
      ]
     },
     "execution_count": 16,
     "metadata": {},
     "output_type": "execute_result"
    }
   ],
   "source": [
    "# Scoring (label predictions)\n",
    "scores(model, dataset)"
   ]
  },
  {
   "cell_type": "code",
   "execution_count": 17,
   "id": "d5f50097-901c-40bd-b3ed-d188b5b05dbd",
   "metadata": {},
   "outputs": [
    {
     "data": {
      "text/plain": [
       "{'ROC AUC': 0.8646737621350322,\n",
       " 'PR AUC': 0.3490308259294979,\n",
       " 'Recall': 0.7300613496932515,\n",
       " 'Precision': 0.10932475884244373,\n",
       " 'F1': 0.19017179384738314}"
      ]
     },
     "execution_count": 17,
     "metadata": {},
     "output_type": "execute_result"
    }
   ],
   "source": [
    "# Scoring (class predictions)\n",
    "cscores(model, dataset)"
   ]
  },
  {
   "cell_type": "code",
   "execution_count": 18,
   "id": "9a366abd-62fc-46e1-806f-ec584a89e0e4",
   "metadata": {},
   "outputs": [],
   "source": [
    "fpr, tpr, t = roc_curve(Z_test, model.predict_clogproba(X_test))\n",
    "fpr2, tpr2, t2 = roc_curve(Z_test, dataset.predict_DV_dim(testing=True))"
   ]
  },
  {
   "cell_type": "code",
   "execution_count": 19,
   "id": "707b9e81-dca2-4dc8-a662-560d24e87d68",
   "metadata": {},
   "outputs": [
    {
     "data": {
      "image/png": "[encoded data removed]",
      "text/plain": [
       "<Figure size 640x480 with 1 Axes>"
      ]
     },
     "metadata": {},
     "output_type": "display_data"
    }
   ],
   "source": [
    "plt.plot(fpr, tpr, label='PU learning')\n",
    "plt.plot(fpr2, tpr2, label='Dang Van')\n",
    "plt.plot([0,1],[0,1], linestyle='dashed')\n",
    "plt.legend(fontsize=15)\n",
    "plt.title('ROC curve', fontsize=20)\n",
    "plt.show()"
   ]
  },
  {
   "cell_type": "code",
   "execution_count": 20,
   "id": "b6c32060-1b28-49d8-ba05-b87954e0116d",
   "metadata": {},
   "outputs": [],
   "source": [
    "a, b, c = precision_recall_curve(Z_test, model.predict_clogproba(X_test))\n",
    "d, e, f = precision_recall_curve(Z_test, dataset.predict_DV_dim(testing=True))"
   ]
  },
  {
   "cell_type": "code",
   "execution_count": 21,
   "id": "7324782f-5916-4711-8c99-aec5734eabd5",
   "metadata": {},
   "outputs": [
    {
     "data": {
      "image/png": "[encoded data removed]",
      "text/plain": [
       "<Figure size 640x480 with 1 Axes>"
      ]
     },
     "metadata": {},
     "output_type": "display_data"
    }
   ],
   "source": [
    "plt.plot(b, a, label='PU learning')\n",
    "plt.plot(e, d, label='Dang Van')\n",
    "plt.legend(fontsize=15)\n",
    "plt.title('PR curve', fontsize=20)\n",
    "plt.show()"
   ]
  },
  {
   "cell_type": "code",
   "execution_count": null,
   "id": "8ac7746b-36d6-409c-9049-0cde357ec610",
   "metadata": {},
   "outputs": [],
   "source": []
  }
 ],
 "metadata": {
  "kernelspec": {
   "display_name": "fatigue_pul",
   "language": "python",
   "name": "fatigue_pul"
  },
  "language_info": {
   "codemirror_mode": {
    "name": "ipython",
    "version": 3
   },
   "file_extension": ".py",
   "mimetype": "text/x-python",
   "name": "python",
   "nbconvert_exporter": "python",
   "pygments_lexer": "ipython3",
   "version": "3.9.13"
  },
  "vscode": {
   "interpreter": {
    "hash": "da70a3c0b027211f596a156d1ae6b35283fa849c1cba7a11b705c08029a8f04b"
   }
  }
 },
 "nbformat": 4,
 "nbformat_minor": 5
}
